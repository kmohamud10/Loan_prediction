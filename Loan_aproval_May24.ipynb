{
 "cells": [
  {
   "cell_type": "code",
   "execution_count": 1,
   "id": "6354dc68",
   "metadata": {},
   "outputs": [],
   "source": [
    "import json\n",
    "import pandas as pd"
   ]
  },
  {
   "cell_type": "code",
   "execution_count": 2,
   "id": "6bf906e7",
   "metadata": {},
   "outputs": [],
   "source": [
    "# Specify the path to your JSON file\n",
    "file_path = 'loan.json'\n",
    "\n",
    "# Open the JSON file\n",
    "with open(file_path, 'r') as json_file:\n",
    "    # Read the JSON content\n",
    "    data = json.load(json_file)\n"
   ]
  },
  {
   "cell_type": "code",
   "execution_count": 3,
   "id": "d6913d57",
   "metadata": {},
   "outputs": [],
   "source": [
    "df1 = pd.DataFrame(data)\n"
   ]
  },
  {
   "cell_type": "code",
   "execution_count": 4,
   "id": "20c840c6",
   "metadata": {},
   "outputs": [],
   "source": [
    "df = df1.copy()"
   ]
  },
  {
   "cell_type": "code",
   "execution_count": 5,
   "id": "330cc332",
   "metadata": {},
   "outputs": [
    {
     "name": "stdout",
     "output_type": "stream",
     "text": [
      "<class 'pandas.core.frame.DataFrame'>\n",
      "Index: 252000 entries, 0 to 251999\n",
      "Data columns (total 13 columns):\n",
      " #   Column             Non-Null Count   Dtype \n",
      "---  ------             --------------   ----- \n",
      " 0   Id                 252000 non-null  int64 \n",
      " 1   Income             252000 non-null  int64 \n",
      " 2   Age                252000 non-null  int64 \n",
      " 3   Experience         252000 non-null  int64 \n",
      " 4   Married/Single     252000 non-null  object\n",
      " 5   House_Ownership    252000 non-null  object\n",
      " 6   Car_Ownership      252000 non-null  object\n",
      " 7   Profession         252000 non-null  object\n",
      " 8   CITY               252000 non-null  object\n",
      " 9   STATE              252000 non-null  object\n",
      " 10  CURRENT_JOB_YRS    252000 non-null  int64 \n",
      " 11  CURRENT_HOUSE_YRS  252000 non-null  int64 \n",
      " 12  Risk_Flag          252000 non-null  int64 \n",
      "dtypes: int64(7), object(6)\n",
      "memory usage: 26.9+ MB\n"
     ]
    }
   ],
   "source": [
    "df.info()"
   ]
  },
  {
   "cell_type": "code",
   "execution_count": 6,
   "id": "92e5a75c",
   "metadata": {},
   "outputs": [
    {
     "data": {
      "text/html": [
       "<div>\n",
       "<style scoped>\n",
       "    .dataframe tbody tr th:only-of-type {\n",
       "        vertical-align: middle;\n",
       "    }\n",
       "\n",
       "    .dataframe tbody tr th {\n",
       "        vertical-align: top;\n",
       "    }\n",
       "\n",
       "    .dataframe thead th {\n",
       "        text-align: right;\n",
       "    }\n",
       "</style>\n",
       "<table border=\"1\" class=\"dataframe\">\n",
       "  <thead>\n",
       "    <tr style=\"text-align: right;\">\n",
       "      <th></th>\n",
       "      <th>Id</th>\n",
       "      <th>Income</th>\n",
       "      <th>Age</th>\n",
       "      <th>Experience</th>\n",
       "      <th>CURRENT_JOB_YRS</th>\n",
       "      <th>CURRENT_HOUSE_YRS</th>\n",
       "      <th>Risk_Flag</th>\n",
       "    </tr>\n",
       "  </thead>\n",
       "  <tbody>\n",
       "    <tr>\n",
       "      <th>count</th>\n",
       "      <td>252000.000000</td>\n",
       "      <td>2.520000e+05</td>\n",
       "      <td>252000.000000</td>\n",
       "      <td>252000.000000</td>\n",
       "      <td>252000.000000</td>\n",
       "      <td>252000.000000</td>\n",
       "      <td>252000.000000</td>\n",
       "    </tr>\n",
       "    <tr>\n",
       "      <th>mean</th>\n",
       "      <td>126000.500000</td>\n",
       "      <td>4.997117e+06</td>\n",
       "      <td>49.954071</td>\n",
       "      <td>10.084437</td>\n",
       "      <td>6.333877</td>\n",
       "      <td>11.997794</td>\n",
       "      <td>0.123000</td>\n",
       "    </tr>\n",
       "    <tr>\n",
       "      <th>std</th>\n",
       "      <td>72746.278255</td>\n",
       "      <td>2.878311e+06</td>\n",
       "      <td>17.063855</td>\n",
       "      <td>6.002590</td>\n",
       "      <td>3.647053</td>\n",
       "      <td>1.399037</td>\n",
       "      <td>0.328438</td>\n",
       "    </tr>\n",
       "    <tr>\n",
       "      <th>min</th>\n",
       "      <td>1.000000</td>\n",
       "      <td>1.031000e+04</td>\n",
       "      <td>21.000000</td>\n",
       "      <td>0.000000</td>\n",
       "      <td>0.000000</td>\n",
       "      <td>10.000000</td>\n",
       "      <td>0.000000</td>\n",
       "    </tr>\n",
       "    <tr>\n",
       "      <th>25%</th>\n",
       "      <td>63000.750000</td>\n",
       "      <td>2.503015e+06</td>\n",
       "      <td>35.000000</td>\n",
       "      <td>5.000000</td>\n",
       "      <td>3.000000</td>\n",
       "      <td>11.000000</td>\n",
       "      <td>0.000000</td>\n",
       "    </tr>\n",
       "    <tr>\n",
       "      <th>50%</th>\n",
       "      <td>126000.500000</td>\n",
       "      <td>5.000694e+06</td>\n",
       "      <td>50.000000</td>\n",
       "      <td>10.000000</td>\n",
       "      <td>6.000000</td>\n",
       "      <td>12.000000</td>\n",
       "      <td>0.000000</td>\n",
       "    </tr>\n",
       "    <tr>\n",
       "      <th>75%</th>\n",
       "      <td>189000.250000</td>\n",
       "      <td>7.477502e+06</td>\n",
       "      <td>65.000000</td>\n",
       "      <td>15.000000</td>\n",
       "      <td>9.000000</td>\n",
       "      <td>13.000000</td>\n",
       "      <td>0.000000</td>\n",
       "    </tr>\n",
       "    <tr>\n",
       "      <th>max</th>\n",
       "      <td>252000.000000</td>\n",
       "      <td>9.999938e+06</td>\n",
       "      <td>79.000000</td>\n",
       "      <td>20.000000</td>\n",
       "      <td>14.000000</td>\n",
       "      <td>14.000000</td>\n",
       "      <td>1.000000</td>\n",
       "    </tr>\n",
       "  </tbody>\n",
       "</table>\n",
       "</div>"
      ],
      "text/plain": [
       "                  Id        Income            Age     Experience  \\\n",
       "count  252000.000000  2.520000e+05  252000.000000  252000.000000   \n",
       "mean   126000.500000  4.997117e+06      49.954071      10.084437   \n",
       "std     72746.278255  2.878311e+06      17.063855       6.002590   \n",
       "min         1.000000  1.031000e+04      21.000000       0.000000   \n",
       "25%     63000.750000  2.503015e+06      35.000000       5.000000   \n",
       "50%    126000.500000  5.000694e+06      50.000000      10.000000   \n",
       "75%    189000.250000  7.477502e+06      65.000000      15.000000   \n",
       "max    252000.000000  9.999938e+06      79.000000      20.000000   \n",
       "\n",
       "       CURRENT_JOB_YRS  CURRENT_HOUSE_YRS      Risk_Flag  \n",
       "count    252000.000000      252000.000000  252000.000000  \n",
       "mean          6.333877          11.997794       0.123000  \n",
       "std           3.647053           1.399037       0.328438  \n",
       "min           0.000000          10.000000       0.000000  \n",
       "25%           3.000000          11.000000       0.000000  \n",
       "50%           6.000000          12.000000       0.000000  \n",
       "75%           9.000000          13.000000       0.000000  \n",
       "max          14.000000          14.000000       1.000000  "
      ]
     },
     "execution_count": 6,
     "metadata": {},
     "output_type": "execute_result"
    }
   ],
   "source": [
    "df.describe()"
   ]
  },
  {
   "cell_type": "code",
   "execution_count": 39,
   "id": "9c319bf4",
   "metadata": {},
   "outputs": [
    {
     "data": {
      "text/plain": [
       "Income               0\n",
       "Age                  0\n",
       "Experience           0\n",
       "Married/Single       0\n",
       "House_Ownership      0\n",
       "Car_Ownership        0\n",
       "CURRENT_JOB_YRS      0\n",
       "CURRENT_HOUSE_YRS    0\n",
       "Risk_Flag            0\n",
       "dtype: int64"
      ]
     },
     "execution_count": 39,
     "metadata": {},
     "output_type": "execute_result"
    }
   ],
   "source": [
    "df.isna().sum()"
   ]
  },
  {
   "cell_type": "code",
   "execution_count": 7,
   "id": "752fa98d",
   "metadata": {},
   "outputs": [],
   "source": [
    "df = df.drop(columns = ['Id', 'Profession', 'CITY', 'STATE'])"
   ]
  },
  {
   "cell_type": "code",
   "execution_count": 8,
   "id": "8ccfb9df",
   "metadata": {},
   "outputs": [],
   "source": [
    "df['Risk_Flag'] = df['Risk_Flag'].map({0: 'deny', 1: 'approve'})"
   ]
  },
  {
   "cell_type": "code",
   "execution_count": 9,
   "id": "a3c0077d",
   "metadata": {},
   "outputs": [],
   "source": [
    "df.loc[df['Married/Single'] == 'single', 'Married/Single'] = 0\n",
    "df.loc[df['Married/Single'] == 'married', 'Married/Single'] = 1"
   ]
  },
  {
   "cell_type": "code",
   "execution_count": 10,
   "id": "52e56e11",
   "metadata": {},
   "outputs": [],
   "source": [
    "df.loc[df['Car_Ownership'] == 'no', 'Car_Ownership'] = 0\n",
    "df.loc[df['Car_Ownership'] == 'yes', 'Car_Ownership'] = 1"
   ]
  },
  {
   "cell_type": "code",
   "execution_count": 11,
   "id": "52ca8539",
   "metadata": {},
   "outputs": [],
   "source": [
    "df.loc[df['House_Ownership'] == 'rented','House_Ownership'] =  0\n",
    "df.loc[df['House_Ownership'] == 'owned','House_Ownership'] = 1 \n",
    "df.loc[df['House_Ownership'] == 'norent_noown','House_Ownership'] =  2 \n"
   ]
  },
  {
   "cell_type": "code",
   "execution_count": 12,
   "id": "1ff9262b",
   "metadata": {},
   "outputs": [],
   "source": [
    "df['Married/Single'] = df['Married/Single'].astype('int8')\n",
    "df['House_Ownership'] = df['House_Ownership'].astype('int8')\n",
    "df['Car_Ownership'] = df['Car_Ownership'].astype('int8')"
   ]
  },
  {
   "cell_type": "code",
   "execution_count": 30,
   "id": "bd1c45bf",
   "metadata": {},
   "outputs": [],
   "source": [
    "df['Risk_Flag'] = df['Risk_Flag'].astype('category')\n"
   ]
  },
  {
   "cell_type": "code",
   "execution_count": 31,
   "id": "6d887b2a",
   "metadata": {},
   "outputs": [],
   "source": [
    "x = df.drop('Risk_Flag', axis = 1)\n",
    "y = df['Risk_Flag']"
   ]
  },
  {
   "cell_type": "code",
   "execution_count": 32,
   "id": "0497f823",
   "metadata": {},
   "outputs": [
    {
     "data": {
      "text/plain": [
       "count     252000\n",
       "unique         2\n",
       "top         deny\n",
       "freq      221004\n",
       "Name: Risk_Flag, dtype: object"
      ]
     },
     "execution_count": 32,
     "metadata": {},
     "output_type": "execute_result"
    }
   ],
   "source": [
    "y.describe()"
   ]
  },
  {
   "cell_type": "code",
   "execution_count": 33,
   "id": "c3d16008",
   "metadata": {},
   "outputs": [
    {
     "data": {
      "text/html": [
       "<style type=\"text/css\">\n",
       "#T_7792a_row0_col0, #T_7792a_row1_col1, #T_7792a_row2_col2, #T_7792a_row3_col3, #T_7792a_row4_col4, #T_7792a_row5_col5, #T_7792a_row6_col6, #T_7792a_row7_col7 {\n",
       "  background-color: #b40426;\n",
       "  color: #f1f1f1;\n",
       "}\n",
       "#T_7792a_row0_col1, #T_7792a_row0_col3, #T_7792a_row0_col7, #T_7792a_row2_col1, #T_7792a_row6_col3 {\n",
       "  background-color: #3f53c6;\n",
       "  color: #f1f1f1;\n",
       "}\n",
       "#T_7792a_row0_col2, #T_7792a_row0_col4, #T_7792a_row0_col5, #T_7792a_row1_col6 {\n",
       "  background-color: #3c4ec2;\n",
       "  color: #f1f1f1;\n",
       "}\n",
       "#T_7792a_row0_col6, #T_7792a_row1_col5, #T_7792a_row2_col5, #T_7792a_row4_col2, #T_7792a_row5_col2, #T_7792a_row7_col6 {\n",
       "  background-color: #3d50c3;\n",
       "  color: #f1f1f1;\n",
       "}\n",
       "#T_7792a_row1_col0, #T_7792a_row3_col0, #T_7792a_row4_col6, #T_7792a_row5_col6, #T_7792a_row6_col5, #T_7792a_row7_col0 {\n",
       "  background-color: #3e51c5;\n",
       "  color: #f1f1f1;\n",
       "}\n",
       "#T_7792a_row1_col2, #T_7792a_row1_col7, #T_7792a_row3_col2, #T_7792a_row3_col4, #T_7792a_row3_col5, #T_7792a_row3_col6, #T_7792a_row4_col0, #T_7792a_row4_col3, #T_7792a_row4_col5, #T_7792a_row7_col1, #T_7792a_row7_col5 {\n",
       "  background-color: #3b4cc0;\n",
       "  color: #f1f1f1;\n",
       "}\n",
       "#T_7792a_row1_col3, #T_7792a_row2_col3, #T_7792a_row3_col1, #T_7792a_row3_col7, #T_7792a_row4_col7, #T_7792a_row6_col7 {\n",
       "  background-color: #4257c9;\n",
       "  color: #f1f1f1;\n",
       "}\n",
       "#T_7792a_row1_col4, #T_7792a_row6_col4 {\n",
       "  background-color: #445acc;\n",
       "  color: #f1f1f1;\n",
       "}\n",
       "#T_7792a_row2_col0, #T_7792a_row5_col0, #T_7792a_row5_col3, #T_7792a_row5_col4, #T_7792a_row5_col7, #T_7792a_row6_col0, #T_7792a_row6_col1, #T_7792a_row7_col2 {\n",
       "  background-color: #4055c8;\n",
       "  color: #f1f1f1;\n",
       "}\n",
       "#T_7792a_row2_col4, #T_7792a_row4_col1, #T_7792a_row5_col1, #T_7792a_row7_col3, #T_7792a_row7_col4 {\n",
       "  background-color: #4358cb;\n",
       "  color: #f1f1f1;\n",
       "}\n",
       "#T_7792a_row2_col6, #T_7792a_row6_col2 {\n",
       "  background-color: #f6bea4;\n",
       "  color: #000000;\n",
       "}\n",
       "#T_7792a_row2_col7 {\n",
       "  background-color: #455cce;\n",
       "  color: #f1f1f1;\n",
       "}\n",
       "</style>\n",
       "<table id=\"T_7792a\">\n",
       "  <thead>\n",
       "    <tr>\n",
       "      <th class=\"blank level0\" >&nbsp;</th>\n",
       "      <th id=\"T_7792a_level0_col0\" class=\"col_heading level0 col0\" >Income</th>\n",
       "      <th id=\"T_7792a_level0_col1\" class=\"col_heading level0 col1\" >Age</th>\n",
       "      <th id=\"T_7792a_level0_col2\" class=\"col_heading level0 col2\" >Experience</th>\n",
       "      <th id=\"T_7792a_level0_col3\" class=\"col_heading level0 col3\" >Married/Single</th>\n",
       "      <th id=\"T_7792a_level0_col4\" class=\"col_heading level0 col4\" >House_Ownership</th>\n",
       "      <th id=\"T_7792a_level0_col5\" class=\"col_heading level0 col5\" >Car_Ownership</th>\n",
       "      <th id=\"T_7792a_level0_col6\" class=\"col_heading level0 col6\" >CURRENT_JOB_YRS</th>\n",
       "      <th id=\"T_7792a_level0_col7\" class=\"col_heading level0 col7\" >CURRENT_HOUSE_YRS</th>\n",
       "    </tr>\n",
       "  </thead>\n",
       "  <tbody>\n",
       "    <tr>\n",
       "      <th id=\"T_7792a_level0_row0\" class=\"row_heading level0 row0\" >Income</th>\n",
       "      <td id=\"T_7792a_row0_col0\" class=\"data row0 col0\" >1.000000</td>\n",
       "      <td id=\"T_7792a_row0_col1\" class=\"data row0 col1\" >-0.000652</td>\n",
       "      <td id=\"T_7792a_row0_col2\" class=\"data row0 col2\" >0.006422</td>\n",
       "      <td id=\"T_7792a_row0_col3\" class=\"data row0 col3\" >-0.002682</td>\n",
       "      <td id=\"T_7792a_row0_col4\" class=\"data row0 col4\" >-0.016433</td>\n",
       "      <td id=\"T_7792a_row0_col5\" class=\"data row0 col5\" >0.004068</td>\n",
       "      <td id=\"T_7792a_row0_col6\" class=\"data row0 col6\" >0.007045</td>\n",
       "      <td id=\"T_7792a_row0_col7\" class=\"data row0 col7\" >-0.002397</td>\n",
       "    </tr>\n",
       "    <tr>\n",
       "      <th id=\"T_7792a_level0_row1\" class=\"row_heading level0 row1\" >Age</th>\n",
       "      <td id=\"T_7792a_row1_col0\" class=\"data row1 col0\" >-0.000652</td>\n",
       "      <td id=\"T_7792a_row1_col1\" class=\"data row1 col1\" >1.000000</td>\n",
       "      <td id=\"T_7792a_row1_col2\" class=\"data row1 col2\" >-0.001118</td>\n",
       "      <td id=\"T_7792a_row1_col3\" class=\"data row1 col3\" >0.005323</td>\n",
       "      <td id=\"T_7792a_row1_col4\" class=\"data row1 col4\" >0.009820</td>\n",
       "      <td id=\"T_7792a_row1_col5\" class=\"data row1 col5\" >0.009395</td>\n",
       "      <td id=\"T_7792a_row1_col6\" class=\"data row1 col6\" >0.002154</td>\n",
       "      <td id=\"T_7792a_row1_col7\" class=\"data row1 col7\" >-0.020134</td>\n",
       "    </tr>\n",
       "    <tr>\n",
       "      <th id=\"T_7792a_level0_row2\" class=\"row_heading level0 row2\" >Experience</th>\n",
       "      <td id=\"T_7792a_row2_col0\" class=\"data row2 col0\" >0.006422</td>\n",
       "      <td id=\"T_7792a_row2_col1\" class=\"data row2 col1\" >-0.001118</td>\n",
       "      <td id=\"T_7792a_row2_col2\" class=\"data row2 col2\" >1.000000</td>\n",
       "      <td id=\"T_7792a_row2_col3\" class=\"data row2 col3\" >0.001752</td>\n",
       "      <td id=\"T_7792a_row2_col4\" class=\"data row2 col4\" >0.007912</td>\n",
       "      <td id=\"T_7792a_row2_col5\" class=\"data row2 col5\" >0.007519</td>\n",
       "      <td id=\"T_7792a_row2_col6\" class=\"data row2 col6\" >0.646098</td>\n",
       "      <td id=\"T_7792a_row2_col7\" class=\"data row2 col7\" >0.019309</td>\n",
       "    </tr>\n",
       "    <tr>\n",
       "      <th id=\"T_7792a_level0_row3\" class=\"row_heading level0 row3\" >Married/Single</th>\n",
       "      <td id=\"T_7792a_row3_col0\" class=\"data row3 col0\" >-0.002682</td>\n",
       "      <td id=\"T_7792a_row3_col1\" class=\"data row3 col1\" >0.005323</td>\n",
       "      <td id=\"T_7792a_row3_col2\" class=\"data row3 col2\" >0.001752</td>\n",
       "      <td id=\"T_7792a_row3_col3\" class=\"data row3 col3\" >1.000000</td>\n",
       "      <td id=\"T_7792a_row3_col4\" class=\"data row3 col4\" >-0.022501</td>\n",
       "      <td id=\"T_7792a_row3_col5\" class=\"data row3 col5\" >-0.001206</td>\n",
       "      <td id=\"T_7792a_row3_col6\" class=\"data row3 col6\" >-0.004251</td>\n",
       "      <td id=\"T_7792a_row3_col7\" class=\"data row3 col7\" >0.007539</td>\n",
       "    </tr>\n",
       "    <tr>\n",
       "      <th id=\"T_7792a_level0_row4\" class=\"row_heading level0 row4\" >House_Ownership</th>\n",
       "      <td id=\"T_7792a_row4_col0\" class=\"data row4 col0\" >-0.016433</td>\n",
       "      <td id=\"T_7792a_row4_col1\" class=\"data row4 col1\" >0.009820</td>\n",
       "      <td id=\"T_7792a_row4_col2\" class=\"data row4 col2\" >0.007912</td>\n",
       "      <td id=\"T_7792a_row4_col3\" class=\"data row4 col3\" >-0.022501</td>\n",
       "      <td id=\"T_7792a_row4_col4\" class=\"data row4 col4\" >1.000000</td>\n",
       "      <td id=\"T_7792a_row4_col5\" class=\"data row4 col5\" >0.001233</td>\n",
       "      <td id=\"T_7792a_row4_col6\" class=\"data row4 col6\" >0.009790</td>\n",
       "      <td id=\"T_7792a_row4_col7\" class=\"data row4 col7\" >0.005618</td>\n",
       "    </tr>\n",
       "    <tr>\n",
       "      <th id=\"T_7792a_level0_row5\" class=\"row_heading level0 row5\" >Car_Ownership</th>\n",
       "      <td id=\"T_7792a_row5_col0\" class=\"data row5 col0\" >0.004068</td>\n",
       "      <td id=\"T_7792a_row5_col1\" class=\"data row5 col1\" >0.009395</td>\n",
       "      <td id=\"T_7792a_row5_col2\" class=\"data row5 col2\" >0.007519</td>\n",
       "      <td id=\"T_7792a_row5_col3\" class=\"data row5 col3\" >-0.001206</td>\n",
       "      <td id=\"T_7792a_row5_col4\" class=\"data row5 col4\" >0.001233</td>\n",
       "      <td id=\"T_7792a_row5_col5\" class=\"data row5 col5\" >1.000000</td>\n",
       "      <td id=\"T_7792a_row5_col6\" class=\"data row5 col6\" >0.011099</td>\n",
       "      <td id=\"T_7792a_row5_col7\" class=\"data row5 col7\" >0.000251</td>\n",
       "    </tr>\n",
       "    <tr>\n",
       "      <th id=\"T_7792a_level0_row6\" class=\"row_heading level0 row6\" >CURRENT_JOB_YRS</th>\n",
       "      <td id=\"T_7792a_row6_col0\" class=\"data row6 col0\" >0.007045</td>\n",
       "      <td id=\"T_7792a_row6_col1\" class=\"data row6 col1\" >0.002154</td>\n",
       "      <td id=\"T_7792a_row6_col2\" class=\"data row6 col2\" >0.646098</td>\n",
       "      <td id=\"T_7792a_row6_col3\" class=\"data row6 col3\" >-0.004251</td>\n",
       "      <td id=\"T_7792a_row6_col4\" class=\"data row6 col4\" >0.009790</td>\n",
       "      <td id=\"T_7792a_row6_col5\" class=\"data row6 col5\" >0.011099</td>\n",
       "      <td id=\"T_7792a_row6_col6\" class=\"data row6 col6\" >1.000000</td>\n",
       "      <td id=\"T_7792a_row6_col7\" class=\"data row6 col7\" >0.005372</td>\n",
       "    </tr>\n",
       "    <tr>\n",
       "      <th id=\"T_7792a_level0_row7\" class=\"row_heading level0 row7\" >CURRENT_HOUSE_YRS</th>\n",
       "      <td id=\"T_7792a_row7_col0\" class=\"data row7 col0\" >-0.002397</td>\n",
       "      <td id=\"T_7792a_row7_col1\" class=\"data row7 col1\" >-0.020134</td>\n",
       "      <td id=\"T_7792a_row7_col2\" class=\"data row7 col2\" >0.019309</td>\n",
       "      <td id=\"T_7792a_row7_col3\" class=\"data row7 col3\" >0.007539</td>\n",
       "      <td id=\"T_7792a_row7_col4\" class=\"data row7 col4\" >0.005618</td>\n",
       "      <td id=\"T_7792a_row7_col5\" class=\"data row7 col5\" >0.000251</td>\n",
       "      <td id=\"T_7792a_row7_col6\" class=\"data row7 col6\" >0.005372</td>\n",
       "      <td id=\"T_7792a_row7_col7\" class=\"data row7 col7\" >1.000000</td>\n",
       "    </tr>\n",
       "  </tbody>\n",
       "</table>\n"
      ],
      "text/plain": [
       "<pandas.io.formats.style.Styler at 0x28fc50490>"
      ]
     },
     "execution_count": 33,
     "metadata": {},
     "output_type": "execute_result"
    }
   ],
   "source": [
    "x.corr().style.background_gradient(cmap='coolwarm')"
   ]
  },
  {
   "cell_type": "markdown",
   "id": "169cada2",
   "metadata": {},
   "source": [
    "## Machine Learn\n"
   ]
  },
  {
   "cell_type": "code",
   "execution_count": 22,
   "id": "9d1b4074",
   "metadata": {},
   "outputs": [],
   "source": [
    "from sklearn.ensemble import RandomForestClassifier\n",
    "\n",
    "# from sklearn.pipeline import Pipeline\n",
    "from sklearn.pipeline import make_pipeline\n",
    "\n",
    "from sklearn.preprocessing import StandardScaler\n",
    "from sklearn.model_selection import cross_val_score\n"
   ]
  },
  {
   "cell_type": "code",
   "execution_count": 17,
   "id": "4e8b2224",
   "metadata": {},
   "outputs": [],
   "source": [
    "model = make_pipeline(StandardScaler(), RandomForestClassifier())\n"
   ]
  },
  {
   "cell_type": "code",
   "execution_count": 18,
   "id": "53daa204",
   "metadata": {},
   "outputs": [
    {
     "data": {
      "text/html": [
       "<style>#sk-container-id-1 {color: black;}#sk-container-id-1 pre{padding: 0;}#sk-container-id-1 div.sk-toggleable {background-color: white;}#sk-container-id-1 label.sk-toggleable__label {cursor: pointer;display: block;width: 100%;margin-bottom: 0;padding: 0.3em;box-sizing: border-box;text-align: center;}#sk-container-id-1 label.sk-toggleable__label-arrow:before {content: \"▸\";float: left;margin-right: 0.25em;color: #696969;}#sk-container-id-1 label.sk-toggleable__label-arrow:hover:before {color: black;}#sk-container-id-1 div.sk-estimator:hover label.sk-toggleable__label-arrow:before {color: black;}#sk-container-id-1 div.sk-toggleable__content {max-height: 0;max-width: 0;overflow: hidden;text-align: left;background-color: #f0f8ff;}#sk-container-id-1 div.sk-toggleable__content pre {margin: 0.2em;color: black;border-radius: 0.25em;background-color: #f0f8ff;}#sk-container-id-1 input.sk-toggleable__control:checked~div.sk-toggleable__content {max-height: 200px;max-width: 100%;overflow: auto;}#sk-container-id-1 input.sk-toggleable__control:checked~label.sk-toggleable__label-arrow:before {content: \"▾\";}#sk-container-id-1 div.sk-estimator input.sk-toggleable__control:checked~label.sk-toggleable__label {background-color: #d4ebff;}#sk-container-id-1 div.sk-label input.sk-toggleable__control:checked~label.sk-toggleable__label {background-color: #d4ebff;}#sk-container-id-1 input.sk-hidden--visually {border: 0;clip: rect(1px 1px 1px 1px);clip: rect(1px, 1px, 1px, 1px);height: 1px;margin: -1px;overflow: hidden;padding: 0;position: absolute;width: 1px;}#sk-container-id-1 div.sk-estimator {font-family: monospace;background-color: #f0f8ff;border: 1px dotted black;border-radius: 0.25em;box-sizing: border-box;margin-bottom: 0.5em;}#sk-container-id-1 div.sk-estimator:hover {background-color: #d4ebff;}#sk-container-id-1 div.sk-parallel-item::after {content: \"\";width: 100%;border-bottom: 1px solid gray;flex-grow: 1;}#sk-container-id-1 div.sk-label:hover label.sk-toggleable__label {background-color: #d4ebff;}#sk-container-id-1 div.sk-serial::before {content: \"\";position: absolute;border-left: 1px solid gray;box-sizing: border-box;top: 0;bottom: 0;left: 50%;z-index: 0;}#sk-container-id-1 div.sk-serial {display: flex;flex-direction: column;align-items: center;background-color: white;padding-right: 0.2em;padding-left: 0.2em;position: relative;}#sk-container-id-1 div.sk-item {position: relative;z-index: 1;}#sk-container-id-1 div.sk-parallel {display: flex;align-items: stretch;justify-content: center;background-color: white;position: relative;}#sk-container-id-1 div.sk-item::before, #sk-container-id-1 div.sk-parallel-item::before {content: \"\";position: absolute;border-left: 1px solid gray;box-sizing: border-box;top: 0;bottom: 0;left: 50%;z-index: -1;}#sk-container-id-1 div.sk-parallel-item {display: flex;flex-direction: column;z-index: 1;position: relative;background-color: white;}#sk-container-id-1 div.sk-parallel-item:first-child::after {align-self: flex-end;width: 50%;}#sk-container-id-1 div.sk-parallel-item:last-child::after {align-self: flex-start;width: 50%;}#sk-container-id-1 div.sk-parallel-item:only-child::after {width: 0;}#sk-container-id-1 div.sk-dashed-wrapped {border: 1px dashed gray;margin: 0 0.4em 0.5em 0.4em;box-sizing: border-box;padding-bottom: 0.4em;background-color: white;}#sk-container-id-1 div.sk-label label {font-family: monospace;font-weight: bold;display: inline-block;line-height: 1.2em;}#sk-container-id-1 div.sk-label-container {text-align: center;}#sk-container-id-1 div.sk-container {/* jupyter's `normalize.less` sets `[hidden] { display: none; }` but bootstrap.min.css set `[hidden] { display: none !important; }` so we also need the `!important` here to be able to override the default hidden behavior on the sphinx rendered scikit-learn.org. See: https://github.com/scikit-learn/scikit-learn/issues/21755 */display: inline-block !important;position: relative;}#sk-container-id-1 div.sk-text-repr-fallback {display: none;}</style><div id=\"sk-container-id-1\" class=\"sk-top-container\"><div class=\"sk-text-repr-fallback\"><pre>Pipeline(steps=[(&#x27;standardscaler&#x27;, StandardScaler()),\n",
       "                (&#x27;randomforestclassifier&#x27;, RandomForestClassifier())])</pre><b>In a Jupyter environment, please rerun this cell to show the HTML representation or trust the notebook. <br />On GitHub, the HTML representation is unable to render, please try loading this page with nbviewer.org.</b></div><div class=\"sk-container\" hidden><div class=\"sk-item sk-dashed-wrapped\"><div class=\"sk-label-container\"><div class=\"sk-label sk-toggleable\"><input class=\"sk-toggleable__control sk-hidden--visually\" id=\"sk-estimator-id-1\" type=\"checkbox\" ><label for=\"sk-estimator-id-1\" class=\"sk-toggleable__label sk-toggleable__label-arrow\">Pipeline</label><div class=\"sk-toggleable__content\"><pre>Pipeline(steps=[(&#x27;standardscaler&#x27;, StandardScaler()),\n",
       "                (&#x27;randomforestclassifier&#x27;, RandomForestClassifier())])</pre></div></div></div><div class=\"sk-serial\"><div class=\"sk-item\"><div class=\"sk-estimator sk-toggleable\"><input class=\"sk-toggleable__control sk-hidden--visually\" id=\"sk-estimator-id-2\" type=\"checkbox\" ><label for=\"sk-estimator-id-2\" class=\"sk-toggleable__label sk-toggleable__label-arrow\">StandardScaler</label><div class=\"sk-toggleable__content\"><pre>StandardScaler()</pre></div></div></div><div class=\"sk-item\"><div class=\"sk-estimator sk-toggleable\"><input class=\"sk-toggleable__control sk-hidden--visually\" id=\"sk-estimator-id-3\" type=\"checkbox\" ><label for=\"sk-estimator-id-3\" class=\"sk-toggleable__label sk-toggleable__label-arrow\">RandomForestClassifier</label><div class=\"sk-toggleable__content\"><pre>RandomForestClassifier()</pre></div></div></div></div></div></div></div>"
      ],
      "text/plain": [
       "Pipeline(steps=[('standardscaler', StandardScaler()),\n",
       "                ('randomforestclassifier', RandomForestClassifier())])"
      ]
     },
     "execution_count": 18,
     "metadata": {},
     "output_type": "execute_result"
    }
   ],
   "source": [
    "model.fit(x, y)"
   ]
  },
  {
   "cell_type": "code",
   "execution_count": 19,
   "id": "bee45a30",
   "metadata": {},
   "outputs": [],
   "source": [
    "pred = model.predict(x)"
   ]
  },
  {
   "cell_type": "code",
   "execution_count": 38,
   "id": "e7a47a58",
   "metadata": {},
   "outputs": [
    {
     "data": {
      "text/plain": [
       "array(['deny', 'deny', 'deny', ..., 'deny', 'deny', 'deny'], dtype=object)"
      ]
     },
     "execution_count": 38,
     "metadata": {},
     "output_type": "execute_result"
    }
   ],
   "source": [
    "pred"
   ]
  },
  {
   "cell_type": "code",
   "execution_count": 34,
   "id": "39b683d9",
   "metadata": {},
   "outputs": [
    {
     "data": {
      "text/plain": [
       "array([0.91733333, 0.89860714, 0.86679762])"
      ]
     },
     "execution_count": 34,
     "metadata": {},
     "output_type": "execute_result"
    }
   ],
   "source": [
    "scores = cross_val_score(model, x, y, cv=3)\n",
    "scores"
   ]
  }
 ],
 "metadata": {
  "kernelspec": {
   "display_name": "Python 3 (ipykernel)",
   "language": "python",
   "name": "python3"
  },
  "language_info": {
   "codemirror_mode": {
    "name": "ipython",
    "version": 3
   },
   "file_extension": ".py",
   "mimetype": "text/x-python",
   "name": "python",
   "nbconvert_exporter": "python",
   "pygments_lexer": "ipython3",
   "version": "3.11.4"
  }
 },
 "nbformat": 4,
 "nbformat_minor": 5
}
